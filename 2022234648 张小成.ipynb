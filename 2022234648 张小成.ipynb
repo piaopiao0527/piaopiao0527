{
 "cells": [
  {
   "cell_type": "code",
   "execution_count": 13,
   "id": "c748b072",
   "metadata": {},
   "outputs": [
    {
     "name": "stdout",
     "output_type": "stream",
     "text": [
      "6\n",
      "873\n"
     ]
    }
   ],
   "source": [
    "n=int(input())\n",
    "j=1\n",
    "sum=0\n",
    "i=1\n",
    "while n>=i:\n",
    "    j=j*i\n",
    "    sum=sum+j\n",
    "    i=i+1\n",
    "print(sum)"
   ]
  },
  {
   "cell_type": "markdown",
   "id": "036566e3",
   "metadata": {},
   "source": [
    "(2)用 while 语句或 for 语句编写程序，求 S=1+2+3+……+100 的值"
   ]
  },
  {
   "cell_type": "code",
   "execution_count": 6,
   "id": "88b5cbf0",
   "metadata": {},
   "outputs": [
    {
     "name": "stdout",
     "output_type": "stream",
     "text": [
      "1-100的和:5050\n"
     ]
    }
   ],
   "source": [
    "def test2():\n",
    "    sum=0\n",
    "    for i in range(1,101):\n",
    "        sum=sum+i\n",
    "    print(\"1-100的和:%d\"%sum)\n",
    "test2()"
   ]
  },
  {
   "cell_type": "markdown",
   "id": "92faa4b7",
   "metadata": {},
   "source": [
    "(3)用 for 语句编写程序，实现输出 1 至 200 中能同是被 2 和 3 整除的数"
   ]
  },
  {
   "cell_type": "code",
   "execution_count": 12,
   "id": "545a442d",
   "metadata": {},
   "outputs": [
    {
     "name": "stdout",
     "output_type": "stream",
     "text": [
      "6 12 18 24 30 36 42 48 54 60 66 72 78 84 90 96 102 108 114 120 126 132 138 144 150 156 162 168 174 180 186 192 198 "
     ]
    }
   ],
   "source": [
    "def test3():\n",
    "    for i in range(1,201):\n",
    "        if i%2==0 and i%3==0:\n",
    "            print(i,end=\" \")\n",
    "        i=i+1\n",
    "test3()"
   ]
  },
  {
   "cell_type": "markdown",
   "id": "80c4906e",
   "metadata": {},
   "source": [
    "(4)已知一个字符串为 “hello_world_yoyo”，如何得到一个队列 [“hello”,”world”,”yoyo”]"
   ]
  },
  {
   "cell_type": "code",
   "execution_count": 13,
   "id": "1d5cf686",
   "metadata": {},
   "outputs": [
    {
     "name": "stdout",
     "output_type": "stream",
     "text": [
      "['hello', 'world', 'yoyo']\n"
     ]
    }
   ],
   "source": [
    "def test4():\n",
    "    test = \"hello_world_yoyo\"\n",
    "    print(test.split(\"_\"))\n",
    "test4()"
   ]
  },
  {
   "cell_type": "markdown",
   "id": "6290f636",
   "metadata": {},
   "source": [
    "(5)统计字符串“Hello, welcome to my world.” 中字母 w 出现的次数"
   ]
  },
  {
   "cell_type": "code",
   "execution_count": 14,
   "id": "f8bca66c",
   "metadata": {},
   "outputs": [
    {
     "name": "stdout",
     "output_type": "stream",
     "text": [
      "w出现的次数: 2\n"
     ]
    }
   ],
   "source": [
    "def test5():\n",
    "    test=\"Hello, welcome to my world.\"\n",
    "    print(\"w出现的次数:\",test.count(\"w\"))\n",
    "test5()"
   ]
  },
  {
   "cell_type": "markdown",
   "id": "1b1a2a91",
   "metadata": {},
   "source": [
    "拓展题：如果一个 3 位数等于其各位数字的立方和，则称这个数为水仙花数。例如：153 = 13 + 53 + 33，因此 153 就是一个水仙花数。\n",
    "那么如何求 1000 以内的水仙花数（3 位数）"
   ]
  },
  {
   "cell_type": "code",
   "execution_count": 1,
   "id": "a952f1f9",
   "metadata": {},
   "outputs": [
    {
     "name": "stdout",
     "output_type": "stream",
     "text": [
      "153 370 371 407 "
     ]
    }
   ],
   "source": [
    "def test6():\n",
    "    for i in range(100,1000):\n",
    "        if((i//100)**3+(i//10%10)**3+(i%10)**3==i):\n",
    "            print(i,end=\" \")\n",
    "test6()"
   ]
  },
  {
   "cell_type": "markdown",
   "id": "258fc33d",
   "metadata": {},
   "source": [
    "（1）使用array函数，分别使用列表、元组创建一维数组和多维数组"
   ]
  },
  {
   "cell_type": "code",
   "execution_count": 2,
   "id": "0a3f337c",
   "metadata": {},
   "outputs": [
    {
     "name": "stdout",
     "output_type": "stream",
     "text": [
      "w1: [1 2 3 4]\n",
      "w2: [5 6 7 8]\n",
      "w3: [[1 2 3 4]\n",
      " [5 6 7 8]]\n"
     ]
    }
   ],
   "source": [
    "import numpy as np\n",
    "data1=[1,2,3,4]\n",
    "w1=np.array(data1)\n",
    "print('w1:',w1)\n",
    "data2=(5,6,7,8)\n",
    "w2=np.array(data2)\n",
    "print('w2:',w2)\n",
    "data3=[[1,2,3,4],[5,6,7,8]]\n",
    "w3=np.array(data3)\n",
    "print('w3:',w3)"
   ]
  },
  {
   "cell_type": "markdown",
   "id": "fcf130f3",
   "metadata": {},
   "source": [
    "(2)创建一个范围在(0,100)，步长为2的等差数组；创建一个范围在（1,100）的，公比为10的等比数列"
   ]
  },
  {
   "cell_type": "code",
   "execution_count": 19,
   "id": "fb72df0a",
   "metadata": {},
   "outputs": [
    {
     "name": "stdout",
     "output_type": "stream",
     "text": [
      "[  0   2   4   6   8  10  12  14  16  18  20  22  24  26  28  30  32  34\n",
      "  36  38  40  42  44  46  48  50  52  54  56  58  60  62  64  66  68  70\n",
      "  72  74  76  78  80  82  84  86  88  90  92  94  96  98 100]\n",
      "[  1.  10. 100.]\n"
     ]
    }
   ],
   "source": [
    "import numpy as np\n",
    "a=np.arange(0,101,2)\n",
    "print(a)\n",
    "b=np.logspace(0,2,3,base=10)\n",
    "print(b)"
   ]
  },
  {
   "cell_type": "markdown",
   "id": "237c5e0e",
   "metadata": {},
   "source": [
    "(3)使用arange函数，创建一个长度为12的形状为（4,3）的二维数组，并将数组元素的类型转换为float型"
   ]
  },
  {
   "cell_type": "code",
   "execution_count": 27,
   "id": "0e72bb52",
   "metadata": {},
   "outputs": [
    {
     "name": "stdout",
     "output_type": "stream",
     "text": [
      "[[ 0.  1.  2.  3.]\n",
      " [ 4.  5.  6.  7.]\n",
      " [ 8.  9. 10. 11.]]\n"
     ]
    }
   ],
   "source": [
    "import numpy as np\n",
    "n=np.arange(12).reshape(3,4).astype(float)\n",
    "print(n)"
   ]
  },
  {
   "cell_type": "markdown",
   "id": "f8a9f9b3",
   "metadata": {},
   "source": [
    "(4)创建一个长度为10的，第4个位置的值为2，其余位置的值都为1的数组"
   ]
  },
  {
   "cell_type": "code",
   "execution_count": 33,
   "id": "b755b0f5",
   "metadata": {},
   "outputs": [
    {
     "name": "stdout",
     "output_type": "stream",
     "text": [
      "[1. 1. 1. 1. 2. 1. 1. 1. 1. 1.]\n"
     ]
    }
   ],
   "source": [
    "import numpy as np\n",
    "z=np.ones(10)\n",
    "z[4]=2\n",
    "print(z)"
   ]
  },
  {
   "cell_type": "markdown",
   "id": "ccdf99f8",
   "metadata": {},
   "source": [
    "(5)创建一个10×10的数组，满足数组边界全为1，其余位置全为0"
   ]
  },
  {
   "cell_type": "code",
   "execution_count": 43,
   "id": "6e97cef7",
   "metadata": {},
   "outputs": [
    {
     "name": "stdout",
     "output_type": "stream",
     "text": [
      "[[1. 1. 1. 1. 1. 1. 1. 1. 1. 1.]\n",
      " [1. 0. 0. 0. 0. 0. 0. 0. 0. 1.]\n",
      " [1. 0. 0. 0. 0. 0. 0. 0. 0. 1.]\n",
      " [1. 0. 0. 0. 0. 0. 0. 0. 0. 1.]\n",
      " [1. 0. 0. 0. 0. 0. 0. 0. 0. 1.]\n",
      " [1. 0. 0. 0. 0. 0. 0. 0. 0. 1.]\n",
      " [1. 0. 0. 0. 0. 0. 0. 0. 0. 1.]\n",
      " [1. 0. 0. 0. 0. 0. 0. 0. 0. 1.]\n",
      " [1. 0. 0. 0. 0. 0. 0. 0. 0. 1.]\n",
      " [1. 1. 1. 1. 1. 1. 1. 1. 1. 1.]]\n"
     ]
    }
   ],
   "source": [
    "import numpy as np\n",
    "z=np.ones((10,10))\n",
    "z[1:-1,1:-1]=0\n",
    "print(z)"
   ]
  },
  {
   "cell_type": "markdown",
   "id": "00f4b137",
   "metadata": {},
   "source": [
    "(6)生成一个范围在0~1、服从均匀分布的10行5列的数组，并计算该数组第三行元素的均值"
   ]
  },
  {
   "cell_type": "code",
   "execution_count": 59,
   "id": "27989e7e",
   "metadata": {},
   "outputs": [
    {
     "name": "stdout",
     "output_type": "stream",
     "text": [
      "[[0.         0.02040816 0.04081633 0.06122449 0.08163265]\n",
      " [0.10204082 0.12244898 0.14285714 0.16326531 0.18367347]\n",
      " [0.20408163 0.2244898  0.24489796 0.26530612 0.28571429]\n",
      " [0.30612245 0.32653061 0.34693878 0.36734694 0.3877551 ]\n",
      " [0.40816327 0.42857143 0.44897959 0.46938776 0.48979592]\n",
      " [0.51020408 0.53061224 0.55102041 0.57142857 0.59183673]\n",
      " [0.6122449  0.63265306 0.65306122 0.67346939 0.69387755]\n",
      " [0.71428571 0.73469388 0.75510204 0.7755102  0.79591837]\n",
      " [0.81632653 0.83673469 0.85714286 0.87755102 0.89795918]\n",
      " [0.91836735 0.93877551 0.95918367 0.97959184 1.        ]]\n",
      "0.2857142857142857\n"
     ]
    }
   ],
   "source": [
    "import numpy as np\n",
    "z=np.linspace(0,1).reshape(10,5)\n",
    "print(z)\n",
    "print(np.average(z[2,4]))"
   ]
  },
  {
   "cell_type": "markdown",
   "id": "4dce51d9",
   "metadata": {},
   "source": [
    "(7)生成一个范围在（20,40）的形状为（3,4）的随机数组，并找到该数组的最大、最小值"
   ]
  },
  {
   "cell_type": "code",
   "execution_count": 63,
   "id": "d68f7e56",
   "metadata": {},
   "outputs": [
    {
     "name": "stdout",
     "output_type": "stream",
     "text": [
      "[[24 35 28 20]\n",
      " [33 29 25 23]\n",
      " [23 31 23 35]]\n",
      "最大值: 35\n",
      "最小值: 20\n"
     ]
    }
   ],
   "source": [
    "import numpy as np\n",
    "z=np.random.randint(20,40,size=(3,4))\n",
    "print(z)\n",
    "print('最大值:',np.max(z))\n",
    "print('最小值:',np.min(z))"
   ]
  },
  {
   "cell_type": "markdown",
   "id": "ea5aab68",
   "metadata": {},
   "source": [
    "(8)生成一个范围在（20,40）的形状为（3,4）的随机数组，且保证每次生成的都是同一份数据"
   ]
  },
  {
   "cell_type": "code",
   "execution_count": 76,
   "id": "099f22d9",
   "metadata": {},
   "outputs": [
    {
     "name": "stdout",
     "output_type": "stream",
     "text": [
      "[[32 35 20 23]\n",
      " [23 27 29 39]\n",
      " [38 24 26 32]]\n"
     ]
    }
   ],
   "source": [
    "import numpy as np\n",
    "np.random.seed(0)\n",
    "z=np.random.randint(20,40,size=(3,4))\n",
    "print(z)"
   ]
  },
  {
   "cell_type": "markdown",
   "id": "3b0715f4",
   "metadata": {},
   "source": [
    "(9)创建一个步长为1，长度为8的一维数组；再通过reshape方法改变其数组的维度"
   ]
  },
  {
   "cell_type": "code",
   "execution_count": 78,
   "id": "c3e9dea6",
   "metadata": {},
   "outputs": [
    {
     "name": "stdout",
     "output_type": "stream",
     "text": [
      "a: [0 1 2 3 4 5 6 7]\n",
      "z: [[0 1 2 3]\n",
      " [4 5 6 7]]\n"
     ]
    }
   ],
   "source": [
    "import numpy as np\n",
    "a=np.arange(8)\n",
    "print('a:',a)\n",
    "z=a.reshape(2,-1)\n",
    "print('z:',z)"
   ]
  },
  {
   "cell_type": "markdown",
   "id": "a9f7c4c0",
   "metadata": {},
   "source": [
    "(10)创建两个数组，并使用hstack、vstack、concatenate函数实现两个数组的横向、纵向合并；再将合并后的数组使用hsplit、vsplit、split函数实现数组的横向、纵向分割"
   ]
  },
  {
   "cell_type": "code",
   "execution_count": 93,
   "id": "4e115447",
   "metadata": {},
   "outputs": [
    {
     "name": "stdout",
     "output_type": "stream",
     "text": [
      "两个数组的横向合并: [[ 0  1  0  2]\n",
      " [ 2  3  4  6]\n",
      " [ 4  5  8 10]]\n",
      "两个数组的纵向合并: [[ 0  1]\n",
      " [ 2  3]\n",
      " [ 4  5]\n",
      " [ 0  2]\n",
      " [ 4  6]\n",
      " [ 8 10]]\n",
      "横向合并为: [[ 0  1  0  2]\n",
      " [ 2  3  4  6]\n",
      " [ 4  5  8 10]]\n",
      "纵向合并为: [[ 0  1]\n",
      " [ 2  3]\n",
      " [ 4  5]\n",
      " [ 0  2]\n",
      " [ 4  6]\n",
      " [ 8 10]]\n",
      "合并后的横向合并为:\n",
      " [array([[0, 1],\n",
      "       [2, 3],\n",
      "       [4, 5]]), array([[ 0,  2],\n",
      "       [ 4,  6],\n",
      "       [ 8, 10]])]\n",
      "合并后的纵向合并为:\n",
      " [array([[0, 1],\n",
      "       [2, 3],\n",
      "       [4, 5]]), array([[ 0,  2],\n",
      "       [ 4,  6],\n",
      "       [ 8, 10]])]\n",
      "横向合并为:\n",
      " [array([[0, 1],\n",
      "       [2, 3],\n",
      "       [4, 5]]), array([[ 0,  2],\n",
      "       [ 4,  6],\n",
      "       [ 8, 10]])]\n",
      "纵向合并为:\n",
      " [array([[0, 1],\n",
      "       [2, 3],\n",
      "       [4, 5]]), array([[ 0,  2],\n",
      "       [ 4,  6],\n",
      "       [ 8, 10]])]\n"
     ]
    }
   ],
   "source": [
    "import numpy as np\n",
    "a=np.arange(6).reshape(3,2)\n",
    "b=a*2\n",
    "c=np.hstack((a,b))\n",
    "d=np.vstack((a,b))\n",
    "print('两个数组的横向合并:',c)\n",
    "print('两个数组的纵向合并:',d)\n",
    "print('横向合并为:',np.concatenate((a,b),axis=1))\n",
    "print('纵向合并为:',np.concatenate((a,b),axis=0))\n",
    "print('合并后的横向合并为:\\n',np.hsplit(c,2))\n",
    "print('合并后的纵向合并为:\\n',np.vsplit(d,2))\n",
    "print('横向合并为:\\n',np.split(c,2,axis=1))\n",
    "print('纵向合并为:\\n',np.split(d,2,axis=0))"
   ]
  },
  {
   "cell_type": "markdown",
   "id": "d03e7667",
   "metadata": {},
   "source": [
    "(11)创建两个形状一样的数组，并实现两个数组的四则运算"
   ]
  },
  {
   "cell_type": "code",
   "execution_count": 20,
   "id": "a767f9d9",
   "metadata": {},
   "outputs": [
    {
     "name": "stdout",
     "output_type": "stream",
     "text": [
      "数组的相加结果: [[17 21]\n",
      " [18 13]\n",
      " [26 20]]\n",
      "数组的相减结果: [[15 11]\n",
      " [ 0 11]\n",
      " [12 18]]\n",
      "数组的相乘结果: [[ 16  80]\n",
      " [ 81  12]\n",
      " [133  19]]\n",
      "数组的相除结果: [[16.          3.2       ]\n",
      " [ 1.         12.        ]\n",
      " [ 2.71428571 19.        ]]\n"
     ]
    }
   ],
   "source": [
    "import numpy as np\n",
    "x=np.random.randint(0,20,size=(3,2))\n",
    "y=np.random.randint(0,20,size=(3,2))\n",
    "print('数组的相加结果:',x+y)\n",
    "print('数组的相减结果:',x-y)\n",
    "print('数组的相乘结果:',x*y)\n",
    "print('数组的相除结果:',x/y)"
   ]
  },
  {
   "cell_type": "markdown",
   "id": "36d59f78",
   "metadata": {},
   "source": [
    "(12)创建两个形状不同的数组，并实现两个数组的四则运算（ufunc函数的广播机制）"
   ]
  },
  {
   "cell_type": "code",
   "execution_count": 98,
   "id": "ac905bd4",
   "metadata": {},
   "outputs": [
    {
     "name": "stdout",
     "output_type": "stream",
     "text": [
      "x:\n",
      " [[0 1 2]\n",
      " [3 4 5]\n",
      " [6 7 8]]\n",
      "y:\n",
      " [3 6 9]\n",
      "x+y:\n",
      " [[ 3  7 11]\n",
      " [ 6 10 14]\n",
      " [ 9 13 17]]\n",
      "x+y:\n",
      " [[-3 -5 -7]\n",
      " [ 0 -2 -4]\n",
      " [ 3  1 -1]]\n",
      "x+y:\n",
      " [[ 0  6 18]\n",
      " [ 9 24 45]\n",
      " [18 42 72]]\n",
      "x+y:\n",
      " [[0.         0.16666667 0.22222222]\n",
      " [1.         0.66666667 0.55555556]\n",
      " [2.         1.16666667 0.88888889]]\n"
     ]
    }
   ],
   "source": [
    "import numpy as np\n",
    "x=np.array([[0,1,2],[3,4,5],[6,7,8]])\n",
    "y=np.array([3,6,9])\n",
    "print('x:\\n',x)\n",
    "print('y:\\n',y)\n",
    "print('x+y:\\n',x+y)\n",
    "print('x+y:\\n',x-y)\n",
    "print('x+y:\\n',x*y)\n",
    "print('x+y:\\n',x/y)"
   ]
  },
  {
   "cell_type": "markdown",
   "id": "750bc50b",
   "metadata": {},
   "source": [
    "(13)自定义数组，并对数组的元素进行排序"
   ]
  },
  {
   "cell_type": "code",
   "execution_count": 100,
   "id": "9caa4012",
   "metadata": {},
   "outputs": [
    {
     "name": "stdout",
     "output_type": "stream",
     "text": [
      "原数组: [6 9 3 5 1 0 2 3 7 8]\n",
      "排序后: [0 1 2 3 3 5 6 7 8 9]\n"
     ]
    }
   ],
   "source": [
    "import numpy as np\n",
    "z=np.array([6,9,3,5,1,0,2,3,7,8])\n",
    "print('原数组:',z)\n",
    "z.sort()\n",
    "print('排序后:',z)"
   ]
  },
  {
   "cell_type": "markdown",
   "id": "a2ca6479",
   "metadata": {},
   "source": [
    "（1）查看mtcar数据集的元素的个数、维度、形状等信息，输出表的列名。"
   ]
  },
  {
   "cell_type": "code",
   "execution_count": 16,
   "id": "d37f4f3d",
   "metadata": {},
   "outputs": [
    {
     "name": "stdout",
     "output_type": "stream",
     "text": [
      "mtcars的元素个数为：\n",
      " 384\n",
      "mtcars的元素维度为：\n",
      " 2\n",
      "mtcars的元素形状为：\n",
      " (32, 12)\n",
      "mtcars的表的列名为：\n",
      " Index(['Unnamed: 0', 'mpg', 'cyl', 'disp', 'hp', 'drat', 'wt', 'qsec', 'vs',\n",
      "       'am', 'gear', 'carb'],\n",
      "      dtype='object')\n"
     ]
    }
   ],
   "source": [
    "import pandas as pd\n",
    "mtcars = pd.read_csv('D:\\\\软件安装\\\\mtcars.csv')\n",
    "print('mtcars的元素个数为：\\n',mtcars.size)\n",
    "print('mtcars的元素维度为：\\n',mtcars.ndim)\n",
    "print('mtcars的元素形状为：\\n',mtcars.shape)\n",
    "print('mtcars的表的列名为：\\n',mtcars.columns)"
   ]
  },
  {
   "cell_type": "markdown",
   "id": "c1a949b5",
   "metadata": {},
   "source": [
    "（2）使用describe方法对整个mtcar数据集进行描述性统计。"
   ]
  },
  {
   "cell_type": "code",
   "execution_count": 2,
   "id": "2bec56d3",
   "metadata": {},
   "outputs": [
    {
     "name": "stdout",
     "output_type": "stream",
     "text": [
      "对整个mtcar数据集进行描述性统计为:\n",
      "              mpg        cyl        disp          hp       drat         wt  \\\n",
      "count  32.000000  32.000000   32.000000   32.000000  32.000000  32.000000   \n",
      "mean   20.090625   6.187500  230.721875  146.687500   3.596563   3.217250   \n",
      "std     6.026948   1.785922  123.938694   68.562868   0.534679   0.978457   \n",
      "min    10.400000   4.000000   71.100000   52.000000   2.760000   1.513000   \n",
      "25%    15.425000   4.000000  120.825000   96.500000   3.080000   2.581250   \n",
      "50%    19.200000   6.000000  196.300000  123.000000   3.695000   3.325000   \n",
      "75%    22.800000   8.000000  326.000000  180.000000   3.920000   3.610000   \n",
      "max    33.900000   8.000000  472.000000  335.000000   4.930000   5.424000   \n",
      "\n",
      "            qsec         vs         am       gear     carb  \n",
      "count  32.000000  32.000000  32.000000  32.000000  32.0000  \n",
      "mean   17.848750   0.437500   0.406250   3.687500   2.8125  \n",
      "std     1.786943   0.504016   0.498991   0.737804   1.6152  \n",
      "min    14.500000   0.000000   0.000000   3.000000   1.0000  \n",
      "25%    16.892500   0.000000   0.000000   3.000000   2.0000  \n",
      "50%    17.710000   0.000000   0.000000   4.000000   2.0000  \n",
      "75%    18.900000   1.000000   1.000000   4.000000   4.0000  \n",
      "max    22.900000   1.000000   1.000000   5.000000   8.0000  \n"
     ]
    }
   ],
   "source": [
    "import pandas as pd\n",
    "mtcars = pd.read_csv('D:\\\\软件安装\\\\mtcars.csv')\n",
    "print('对整个mtcar数据集进行描述性统计为:\\n',mtcars.describe())"
   ]
  },
  {
   "cell_type": "markdown",
   "id": "1736e344",
   "metadata": {},
   "source": [
    "（3）计算不同cyl（气缸数）、carb（化油器）对应的mpg（油耗）和hp（马力）的均值。"
   ]
  },
  {
   "cell_type": "code",
   "execution_count": 3,
   "id": "64460633",
   "metadata": {},
   "outputs": [
    {
     "name": "stdout",
     "output_type": "stream",
     "text": [
      "不同cyl(气缸数)、carb(化油器)对应的mpg(油耗)和hp(马力)的均值为:\n",
      "             mpg     hp\n",
      "cyl carb              \n",
      "4   1     27.58   77.4\n",
      "    2     25.90   87.0\n",
      "6   1     19.75  107.5\n",
      "    4     19.75  116.5\n",
      "    6     19.70  175.0\n",
      "8   2     17.15  162.5\n",
      "    3     16.30  180.0\n",
      "    4     13.15  234.0\n",
      "    8     15.00  335.0\n"
     ]
    }
   ],
   "source": [
    "import pandas as pd\n",
    "mtcars = pd.read_csv('D:\\\\软件安装\\\\mtcars.csv')\n",
    "x = mtcars.loc[:,['cyl','carb','mpg','hp']]\n",
    "y = x.groupby(['cyl','carb']).mean()\n",
    "print('不同cyl(气缸数)、carb(化油器)对应的mpg(油耗)和hp(马力)的均值为:\\n',y)"
   ]
  },
  {
   "cell_type": "markdown",
   "id": "37a1645a",
   "metadata": {},
   "source": [
    "（4）输出mpg和hp前5个元素。"
   ]
  },
  {
   "cell_type": "code",
   "execution_count": 4,
   "id": "5e6b0c01",
   "metadata": {},
   "outputs": [
    {
     "name": "stdout",
     "output_type": "stream",
     "text": [
      "mpg和hp前5个元素为:\n",
      "     mpg   hp\n",
      "0  21.0  110\n",
      "1  21.0  110\n",
      "2  22.8   93\n",
      "3  21.4  110\n",
      "4  18.7  175\n"
     ]
    }
   ],
   "source": [
    "import pandas as pd\n",
    "mtcars = pd.read_csv('D:\\\\软件安装\\\\mtcars.csv')\n",
    "x = mtcars[['mpg','hp']][:5]\n",
    "print('mpg和hp前5个元素为:\\n',x)"
   ]
  },
  {
   "cell_type": "markdown",
   "id": "ea46ca22",
   "metadata": {},
   "source": [
    "（5）输出mtcar数据的12-20行元素。"
   ]
  },
  {
   "cell_type": "code",
   "execution_count": 15,
   "id": "26d7dbda",
   "metadata": {},
   "outputs": [
    {
     "name": "stdout",
     "output_type": "stream",
     "text": [
      "mtcars数据的前3行元素为:\n",
      "              Unnamed: 0   mpg  cyl   disp   hp  drat     wt   qsec  vs  am  \\\n",
      "12           Merc 450SL  17.3    8  275.8  180  3.07  3.730  17.60   0   0   \n",
      "13          Merc 450SLC  15.2    8  275.8  180  3.07  3.780  18.00   0   0   \n",
      "14   Cadillac Fleetwood  10.4    8  472.0  205  2.93  5.250  17.98   0   0   \n",
      "15  Lincoln Continental  10.4    8  460.0  215  3.00  5.424  17.82   0   0   \n",
      "16    Chrysler Imperial  14.7    8  440.0  230  3.23  5.345  17.42   0   0   \n",
      "17             Fiat 128  32.4    4   78.7   66  4.08  2.200  19.47   1   1   \n",
      "18          Honda Civic  30.4    4   75.7   52  4.93  1.615  18.52   1   1   \n",
      "19       Toyota Corolla  33.9    4   71.1   65  4.22  1.835  19.90   1   1   \n",
      "20        Toyota Corona  21.5    4  120.1   97  3.70  2.465  20.01   1   0   \n",
      "\n",
      "    gear  carb  \n",
      "12     3     3  \n",
      "13     3     3  \n",
      "14     3     4  \n",
      "15     3     4  \n",
      "16     3     4  \n",
      "17     4     1  \n",
      "18     4     2  \n",
      "19     4     1  \n",
      "20     3     1  \n"
     ]
    }
   ],
   "source": [
    "import pandas as pd\n",
    "mtcars = pd.read_csv('D:\\\\软件安装\\\\mtcars.csv')\n",
    "x = mtcars[:][12:21]\n",
    "print('mtcars数据的前3行元素为:\\n',x)"
   ]
  },
  {
   "cell_type": "markdown",
   "id": "57a21d3f",
   "metadata": {},
   "source": [
    "（6）使用head()和tail()方法输出前后5行数据。"
   ]
  },
  {
   "cell_type": "code",
   "execution_count": 6,
   "id": "c320d3dd",
   "metadata": {},
   "outputs": [
    {
     "name": "stdout",
     "output_type": "stream",
     "text": [
      "mtcars数据的前5行元素为:\n",
      "           Unnamed: 0   mpg  cyl   disp   hp  drat     wt   qsec  vs  am  gear  \\\n",
      "0          Mazda RX4  21.0    6  160.0  110  3.90  2.620  16.46   0   1     4   \n",
      "1      Mazda RX4 Wag  21.0    6  160.0  110  3.90  2.875  17.02   0   1     4   \n",
      "2         Datsun 710  22.8    4  108.0   93  3.85  2.320  18.61   1   1     4   \n",
      "3     Hornet 4 Drive  21.4    6  258.0  110  3.08  3.215  19.44   1   0     3   \n",
      "4  Hornet Sportabout  18.7    8  360.0  175  3.15  3.440  17.02   0   0     3   \n",
      "\n",
      "   carb  \n",
      "0     4  \n",
      "1     4  \n",
      "2     1  \n",
      "3     1  \n",
      "4     2  \n",
      "mtcars数据的后5行元素为:\n",
      "         Unnamed: 0   mpg  cyl   disp   hp  drat     wt  qsec  vs  am  gear  \\\n",
      "27    Lotus Europa  30.4    4   95.1  113  3.77  1.513  16.9   1   1     5   \n",
      "28  Ford Pantera L  15.8    8  351.0  264  4.22  3.170  14.5   0   1     5   \n",
      "29    Ferrari Dino  19.7    6  145.0  175  3.62  2.770  15.5   0   1     5   \n",
      "30   Maserati Bora  15.0    8  301.0  335  3.54  3.570  14.6   0   1     5   \n",
      "31      Volvo 142E  21.4    4  121.0  109  4.11  2.780  18.6   1   1     4   \n",
      "\n",
      "    carb  \n",
      "27     2  \n",
      "28     4  \n",
      "29     6  \n",
      "30     8  \n",
      "31     2  \n"
     ]
    }
   ],
   "source": [
    "import pandas as pd\n",
    "mtcars = pd.read_csv('D:\\\\软件安装\\\\mtcars.csv')\n",
    "print('mtcars数据的前5行元素为:\\n',mtcars.head())\n",
    "print('mtcars数据的后5行元素为:\\n',mtcars.tail())"
   ]
  },
  {
   "cell_type": "markdown",
   "id": "10174251",
   "metadata": {},
   "source": [
    "（7）用loc和iloc分别提取第1列和第3列的数据。"
   ]
  },
  {
   "cell_type": "code",
   "execution_count": 8,
   "id": "3d614dc0",
   "metadata": {},
   "outputs": [
    {
     "name": "stdout",
     "output_type": "stream",
     "text": [
      "mtcar数据的第1列和第3列的数据为:\n",
      "      mpg   disp\n",
      "0   21.0  160.0\n",
      "1   21.0  160.0\n",
      "2   22.8  108.0\n",
      "3   21.4  258.0\n",
      "4   18.7  360.0\n",
      "5   18.1  225.0\n",
      "6   14.3  360.0\n",
      "7   24.4  146.7\n",
      "8   22.8  140.8\n",
      "9   19.2  167.6\n",
      "10  17.8  167.6\n",
      "11  16.4  275.8\n",
      "12  17.3  275.8\n",
      "13  15.2  275.8\n",
      "14  10.4  472.0\n",
      "15  10.4  460.0\n",
      "16  14.7  440.0\n",
      "17  32.4   78.7\n",
      "18  30.4   75.7\n",
      "19  33.9   71.1\n",
      "20  21.5  120.1\n",
      "21  15.5  318.0\n",
      "22  15.2  304.0\n",
      "23  13.3  350.0\n",
      "24  19.2  400.0\n",
      "25  27.3   79.0\n",
      "26  26.0  120.3\n",
      "27  30.4   95.1\n",
      "28  15.8  351.0\n",
      "29  19.7  145.0\n",
      "30  15.0  301.0\n",
      "31  21.4  121.0\n",
      "mtcar数据的第1列和第3列的数据为:\n",
      "      mpg   disp\n",
      "0   21.0  160.0\n",
      "1   21.0  160.0\n",
      "2   22.8  108.0\n",
      "3   21.4  258.0\n",
      "4   18.7  360.0\n",
      "5   18.1  225.0\n",
      "6   14.3  360.0\n",
      "7   24.4  146.7\n",
      "8   22.8  140.8\n",
      "9   19.2  167.6\n",
      "10  17.8  167.6\n",
      "11  16.4  275.8\n",
      "12  17.3  275.8\n",
      "13  15.2  275.8\n",
      "14  10.4  472.0\n",
      "15  10.4  460.0\n",
      "16  14.7  440.0\n",
      "17  32.4   78.7\n",
      "18  30.4   75.7\n",
      "19  33.9   71.1\n",
      "20  21.5  120.1\n",
      "21  15.5  318.0\n",
      "22  15.2  304.0\n",
      "23  13.3  350.0\n",
      "24  19.2  400.0\n",
      "25  27.3   79.0\n",
      "26  26.0  120.3\n",
      "27  30.4   95.1\n",
      "28  15.8  351.0\n",
      "29  19.7  145.0\n",
      "30  15.0  301.0\n",
      "31  21.4  121.0\n"
     ]
    }
   ],
   "source": [
    "import pandas as pd\n",
    "mtcars = pd.read_csv('D:\\\\软件安装\\\\mtcars.csv')\n",
    "print('mtcar数据的第1列和第3列的数据为:\\n',mtcars.loc[:,['mpg','disp']])\n",
    "print('mtcar数据的第1列和第3列的数据为:\\n',mtcars.iloc[:,[1,3]])"
   ]
  },
  {
   "cell_type": "markdown",
   "id": "d215848f",
   "metadata": {},
   "source": [
    "（8）取出列名为mpg、hp，行名为2，3，4的数据。"
   ]
  },
  {
   "cell_type": "code",
   "execution_count": 9,
   "id": "b2780b05",
   "metadata": {},
   "outputs": [
    {
     "name": "stdout",
     "output_type": "stream",
     "text": [
      "列名为mpg、hp，行名为2，3，4的数据为:\n",
      "     mpg   hp\n",
      "2  22.8   93\n",
      "3  21.4  110\n",
      "4  18.7  175\n"
     ]
    }
   ],
   "source": [
    "import pandas as pd\n",
    "mtcars = pd.read_csv('D:\\\\软件安装\\\\mtcars.csv')\n",
    "print('列名为mpg、hp，行名为2，3，4的数据为:\\n',mtcars.loc[2:4,['mpg','hp']])"
   ]
  },
  {
   "cell_type": "markdown",
   "id": "af094d54",
   "metadata": {},
   "source": [
    "（9）取出列位置为2和4，行位置为5，6，7的数据。"
   ]
  },
  {
   "cell_type": "code",
   "execution_count": 10,
   "id": "5b2d843e",
   "metadata": {},
   "outputs": [
    {
     "name": "stdout",
     "output_type": "stream",
     "text": [
      "列位置为2和4，行位置为5，6，7的数据为:\n",
      "    cyl   hp\n",
      "5    6  105\n",
      "6    8  245\n",
      "7    4   62\n"
     ]
    }
   ],
   "source": [
    "import pandas as pd\n",
    "mtcars = pd.read_csv('D:\\\\软件安装\\\\mtcars.csv')\n",
    "print('列位置为2和4，行位置为5，6，7的数据为:\\n',mtcars.iloc[5:8,[2,4]])"
   ]
  },
  {
   "cell_type": "markdown",
   "id": "fab25d5b",
   "metadata": {},
   "source": [
    "（10）取出列位置为3，行名为2-6的数据。"
   ]
  },
  {
   "cell_type": "code",
   "execution_count": 11,
   "id": "eb187b60",
   "metadata": {},
   "outputs": [
    {
     "name": "stdout",
     "output_type": "stream",
     "text": [
      "列位置为3，行名为2-6的数据为:\n",
      "     disp\n",
      "2  108.0\n",
      "3  258.0\n",
      "4  360.0\n",
      "5  225.0\n",
      "6  360.0\n"
     ]
    }
   ],
   "source": [
    "import pandas as pd\n",
    "mtcars = pd.read_csv('D:\\\\软件安装\\\\mtcars.csv')\n",
    "print('列位置为3，行名为2-6的数据为:\\n',mtcars.loc[2:6,['disp']])"
   ]
  },
  {
   "cell_type": "markdown",
   "id": "3c953616",
   "metadata": {},
   "source": [
    "（11）新增1列，名称为abc（abc=mpg+hp），输出前5行数据。"
   ]
  },
  {
   "cell_type": "code",
   "execution_count": 12,
   "id": "de1c9ecf",
   "metadata": {},
   "outputs": [
    {
     "name": "stdout",
     "output_type": "stream",
     "text": [
      "输出前5行数据为:\n",
      "           Unnamed: 0   mpg  cyl   disp   hp  drat     wt   qsec  vs  am  gear  \\\n",
      "0          Mazda RX4  21.0    6  160.0  110  3.90  2.620  16.46   0   1     4   \n",
      "1      Mazda RX4 Wag  21.0    6  160.0  110  3.90  2.875  17.02   0   1     4   \n",
      "2         Datsun 710  22.8    4  108.0   93  3.85  2.320  18.61   1   1     4   \n",
      "3     Hornet 4 Drive  21.4    6  258.0  110  3.08  3.215  19.44   1   0     3   \n",
      "4  Hornet Sportabout  18.7    8  360.0  175  3.15  3.440  17.02   0   0     3   \n",
      "\n",
      "   carb    abc  \n",
      "0     4  131.0  \n",
      "1     4  131.0  \n",
      "2     1  115.8  \n",
      "3     1  131.4  \n",
      "4     2  193.7  \n"
     ]
    }
   ],
   "source": [
    "import pandas as pd\n",
    "mtcars = pd.read_csv('D:\\\\软件安装\\\\mtcars.csv')\n",
    "mtcars['abc']=mtcars['mpg']+mtcars['hp']\n",
    "print('输出前5行数据为:\\n',mtcars.head())"
   ]
  },
  {
   "cell_type": "markdown",
   "id": "3b55108c",
   "metadata": {},
   "source": [
    "（12）删除前两行数据。"
   ]
  },
  {
   "cell_type": "code",
   "execution_count": 13,
   "id": "18c31aa8",
   "metadata": {},
   "outputs": [
    {
     "name": "stdout",
     "output_type": "stream",
     "text": [
      "删除前两行数据前的长度为:\n",
      " 32\n",
      "删除前两行数据后的长度为:\n",
      " 30\n",
      "前五行数据为：\n",
      "           Unnamed: 0   mpg  cyl   disp   hp  drat     wt   qsec  vs  am  gear  \\\n",
      "2         Datsun 710  22.8    4  108.0   93  3.85  2.320  18.61   1   1     4   \n",
      "3     Hornet 4 Drive  21.4    6  258.0  110  3.08  3.215  19.44   1   0     3   \n",
      "4  Hornet Sportabout  18.7    8  360.0  175  3.15  3.440  17.02   0   0     3   \n",
      "5            Valiant  18.1    6  225.0  105  2.76  3.460  20.22   1   0     3   \n",
      "6         Duster 360  14.3    8  360.0  245  3.21  3.570  15.84   0   0     3   \n",
      "\n",
      "   carb  \n",
      "2     1  \n",
      "3     1  \n",
      "4     2  \n",
      "5     1  \n",
      "6     4  \n"
     ]
    }
   ],
   "source": [
    "import pandas as pd\n",
    "mtcars = pd.read_csv('D:\\\\软件安装\\\\mtcars.csv')\n",
    "print('删除前两行数据前的长度为:\\n',len(mtcars))\n",
    "mtcars.drop(labels=range(0,2),axis=0,inplace=True)\n",
    "print('删除前两行数据后的长度为:\\n',len(mtcars))\n",
    "print('前五行数据为：\\n',mtcars.head())"
   ]
  },
  {
   "cell_type": "markdown",
   "id": "b9b66cb9",
   "metadata": {},
   "source": [
    "（13）删除abc列。"
   ]
  },
  {
   "cell_type": "code",
   "execution_count": 14,
   "id": "d653ec87",
   "metadata": {},
   "outputs": [
    {
     "name": "stdout",
     "output_type": "stream",
     "text": [
      "删除abc前列索引为:\n",
      " Index(['Unnamed: 0', 'mpg', 'cyl', 'disp', 'hp', 'drat', 'wt', 'qsec', 'vs',\n",
      "       'am', 'gear', 'carb', 'abc'],\n",
      "      dtype='object')\n",
      "删除abc后列索引为:\n",
      " Index(['Unnamed: 0', 'mpg', 'cyl', 'disp', 'hp', 'drat', 'wt', 'qsec', 'vs',\n",
      "       'am', 'gear', 'carb'],\n",
      "      dtype='object')\n"
     ]
    }
   ],
   "source": [
    "import pandas as pd\n",
    "mtcars = pd.read_csv('D:\\\\软件安装\\\\mtcars.csv')\n",
    "mtcars['abc']=mtcars['mpg']+mtcars['hp']\n",
    "print('删除abc前列索引为:\\n',mtcars.columns)\n",
    "mtcars.drop(labels='abc',axis=1,inplace=True)\n",
    "print('删除abc后列索引为:\\n',mtcars.columns)"
   ]
  },
  {
   "cell_type": "markdown",
   "id": "4b21acb8",
   "metadata": {},
   "source": [
    "（1）自定义两个DataFrame，使用merge函数、concat函数、combine_first实现数据的合并，熟悉各个函数参数的用法"
   ]
  },
  {
   "cell_type": "code",
   "execution_count": 2,
   "id": "63ce2966",
   "metadata": {},
   "outputs": [
    {
     "name": "stdout",
     "output_type": "stream",
     "text": [
      "    id  num1  num2  num3\n",
      "0  001   120   110   105\n",
      "1  002   101   102   120\n",
      "2  003   104   121   113\n",
      "=======================================\n",
      "    id  num4\n",
      "0  001    80\n",
      "1  002    86\n",
      "2  003    79\n",
      "=======================================\n",
      "    id  num1  num2  num3  num4\n",
      "0  001   120   110   105    80\n",
      "1  002   101   102   120    86\n",
      "2  003   104   121   113    79\n"
     ]
    },
    {
     "data": {
      "text/html": [
       "<div>\n",
       "<style scoped>\n",
       "    .dataframe tbody tr th:only-of-type {\n",
       "        vertical-align: middle;\n",
       "    }\n",
       "\n",
       "    .dataframe tbody tr th {\n",
       "        vertical-align: top;\n",
       "    }\n",
       "\n",
       "    .dataframe thead th {\n",
       "        text-align: right;\n",
       "    }\n",
       "</style>\n",
       "<table border=\"1\" class=\"dataframe\">\n",
       "  <thead>\n",
       "    <tr style=\"text-align: right;\">\n",
       "      <th></th>\n",
       "      <th>id</th>\n",
       "      <th>num1</th>\n",
       "      <th>num2</th>\n",
       "      <th>num3</th>\n",
       "      <th>num4</th>\n",
       "    </tr>\n",
       "  </thead>\n",
       "  <tbody>\n",
       "    <tr>\n",
       "      <th>0</th>\n",
       "      <td>001</td>\n",
       "      <td>120.0</td>\n",
       "      <td>110.0</td>\n",
       "      <td>105.0</td>\n",
       "      <td>NaN</td>\n",
       "    </tr>\n",
       "    <tr>\n",
       "      <th>1</th>\n",
       "      <td>002</td>\n",
       "      <td>101.0</td>\n",
       "      <td>102.0</td>\n",
       "      <td>120.0</td>\n",
       "      <td>NaN</td>\n",
       "    </tr>\n",
       "    <tr>\n",
       "      <th>2</th>\n",
       "      <td>003</td>\n",
       "      <td>104.0</td>\n",
       "      <td>121.0</td>\n",
       "      <td>113.0</td>\n",
       "      <td>NaN</td>\n",
       "    </tr>\n",
       "    <tr>\n",
       "      <th>0</th>\n",
       "      <td>001</td>\n",
       "      <td>NaN</td>\n",
       "      <td>NaN</td>\n",
       "      <td>NaN</td>\n",
       "      <td>80.0</td>\n",
       "    </tr>\n",
       "    <tr>\n",
       "      <th>1</th>\n",
       "      <td>002</td>\n",
       "      <td>NaN</td>\n",
       "      <td>NaN</td>\n",
       "      <td>NaN</td>\n",
       "      <td>86.0</td>\n",
       "    </tr>\n",
       "    <tr>\n",
       "      <th>2</th>\n",
       "      <td>003</td>\n",
       "      <td>NaN</td>\n",
       "      <td>NaN</td>\n",
       "      <td>NaN</td>\n",
       "      <td>79.0</td>\n",
       "    </tr>\n",
       "  </tbody>\n",
       "</table>\n",
       "</div>"
      ],
      "text/plain": [
       "    id   num1   num2   num3  num4\n",
       "0  001  120.0  110.0  105.0   NaN\n",
       "1  002  101.0  102.0  120.0   NaN\n",
       "2  003  104.0  121.0  113.0   NaN\n",
       "0  001    NaN    NaN    NaN  80.0\n",
       "1  002    NaN    NaN    NaN  86.0\n",
       "2  003    NaN    NaN    NaN  79.0"
      ]
     },
     "metadata": {},
     "output_type": "display_data"
    },
    {
     "data": {
      "text/html": [
       "<div>\n",
       "<style scoped>\n",
       "    .dataframe tbody tr th:only-of-type {\n",
       "        vertical-align: middle;\n",
       "    }\n",
       "\n",
       "    .dataframe tbody tr th {\n",
       "        vertical-align: top;\n",
       "    }\n",
       "\n",
       "    .dataframe thead th {\n",
       "        text-align: right;\n",
       "    }\n",
       "</style>\n",
       "<table border=\"1\" class=\"dataframe\">\n",
       "  <thead>\n",
       "    <tr style=\"text-align: right;\">\n",
       "      <th></th>\n",
       "      <th>id</th>\n",
       "      <th>num1</th>\n",
       "      <th>num2</th>\n",
       "      <th>num3</th>\n",
       "      <th>num4</th>\n",
       "    </tr>\n",
       "  </thead>\n",
       "  <tbody>\n",
       "    <tr>\n",
       "      <th>0</th>\n",
       "      <td>001</td>\n",
       "      <td>120</td>\n",
       "      <td>110</td>\n",
       "      <td>105</td>\n",
       "      <td>80</td>\n",
       "    </tr>\n",
       "    <tr>\n",
       "      <th>1</th>\n",
       "      <td>002</td>\n",
       "      <td>101</td>\n",
       "      <td>102</td>\n",
       "      <td>120</td>\n",
       "      <td>86</td>\n",
       "    </tr>\n",
       "    <tr>\n",
       "      <th>2</th>\n",
       "      <td>003</td>\n",
       "      <td>104</td>\n",
       "      <td>121</td>\n",
       "      <td>113</td>\n",
       "      <td>79</td>\n",
       "    </tr>\n",
       "  </tbody>\n",
       "</table>\n",
       "</div>"
      ],
      "text/plain": [
       "    id  num1  num2  num3  num4\n",
       "0  001   120   110   105    80\n",
       "1  002   101   102   120    86\n",
       "2  003   104   121   113    79"
      ]
     },
     "execution_count": 2,
     "metadata": {},
     "output_type": "execute_result"
    }
   ],
   "source": [
    "import pandas as pd\n",
    "df1 = pd.DataFrame({'id': ['001', '002', '003'],\n",
    "                    'num1': [120, 101, 104],\n",
    "                    'num2': [110, 102, 121],\n",
    "                    'num3': [105, 120, 113]})\n",
    "df2 = pd.DataFrame({'id': ['001', '002', '003'],\n",
    "                    'num4': [80, 86, 79]})\n",
    "print(df1)\n",
    "print(\"=======================================\")\n",
    "print(df2)\n",
    "print(\"=======================================\")\n",
    "df_merge = pd.merge(df1, df2, on='id')\n",
    "print(df_merge)\n",
    "df3 = pd.concat([df1,df2],axis = 0)\n",
    "display(df3)\n",
    "df1.combine_first(df2)"
   ]
  },
  {
   "cell_type": "markdown",
   "id": "10dea98e",
   "metadata": {},
   "source": [
    "（2）使用如下方法规范化数组：200，300，400，600，1000  1）离差标准化"
   ]
  },
  {
   "cell_type": "code",
   "execution_count": 7,
   "id": "74cb9d5e",
   "metadata": {},
   "outputs": [
    {
     "name": "stdout",
     "output_type": "stream",
     "text": [
      "原始数据为:\n",
      " [ 200  300  400  600 1000]\n",
      "标准化后矩阵为:\n",
      " [0.    0.125 0.25  0.5   1.   ]\n"
     ]
    }
   ],
   "source": [
    "def MinMaxScale(data):\n",
    "    data=(data-data.min())/(data.max()-data.min())\n",
    "    return data\n",
    "x=np.array([200,300,400,600,1000])\n",
    "print('原始数据为:\\n',x)\n",
    "x_scaled=MinMaxScale(x)\n",
    "print('标准化后矩阵为:\\n',x_scaled,end='\\n')"
   ]
  },
  {
   "cell_type": "markdown",
   "id": "970a0b00",
   "metadata": {},
   "source": [
    "2）标准差标准化"
   ]
  },
  {
   "cell_type": "code",
   "execution_count": 8,
   "id": "605ca5c2",
   "metadata": {},
   "outputs": [
    {
     "name": "stdout",
     "output_type": "stream",
     "text": [
      "原始数据为:\n",
      " [ 200  300  400  600 1000]\n",
      "标准化后矩阵为:\n",
      " [-1.06066017 -0.70710678 -0.35355339  0.35355339  1.76776695]\n"
     ]
    }
   ],
   "source": [
    "def StandarScale(data):\n",
    "    data=(data-data.mean())/data.std()\n",
    "    return data\n",
    "x=np.array([200,300,400,600,1000])\n",
    "print('原始数据为:\\n',x)\n",
    "x_scaled=StandarScale(x)\n",
    "print('标准化后矩阵为:\\n',x_scaled,end='\\n')"
   ]
  },
  {
   "cell_type": "markdown",
   "id": "70231dfb",
   "metadata": {},
   "source": [
    "（3）12个销售价格记录如下：5，10，11，13，15，35，50，55，72，92，204，215。使用等宽法对其进行离散化处理（分3类）；"
   ]
  },
  {
   "cell_type": "code",
   "execution_count": 21,
   "id": "f0de8337",
   "metadata": {},
   "outputs": [
    {
     "name": "stdout",
     "output_type": "stream",
     "text": [
      "原始数据:\n",
      " (5, 10, 11, 13, 15, 35, 50, 55, 72, 92, 204, 215)\n",
      "(0, 72]       9\n",
      "(144, 216]    2\n",
      "(72, 144]     1\n",
      "dtype: int64\n"
     ]
    }
   ],
   "source": [
    "import pandas as pd\n",
    "np.random.seed((666))\n",
    "score_list=(5,10,11,13,15,35,50,55,72,92,204,215)\n",
    "print('原始数据:\\n',score_list)\n",
    "bins=[0,72,144,216]\n",
    "score_cut=pd.cut(score_list,bins)\n",
    "print(pd.value_counts(score_cut))"
   ]
  },
  {
   "cell_type": "markdown",
   "id": "fcb57b91",
   "metadata": {},
   "source": [
    "（4）读取tips_mod.xls数据并实现以下操作：\n",
    "①　查看数据的描述和统计信息；"
   ]
  },
  {
   "cell_type": "code",
   "execution_count": 22,
   "id": "2171d333",
   "metadata": {},
   "outputs": [
    {
     "name": "stdout",
     "output_type": "stream",
     "text": [
      "(244, 8)\n"
     ]
    },
    {
     "data": {
      "text/html": [
       "<div>\n",
       "<style scoped>\n",
       "    .dataframe tbody tr th:only-of-type {\n",
       "        vertical-align: middle;\n",
       "    }\n",
       "\n",
       "    .dataframe tbody tr th {\n",
       "        vertical-align: top;\n",
       "    }\n",
       "\n",
       "    .dataframe thead th {\n",
       "        text-align: right;\n",
       "    }\n",
       "</style>\n",
       "<table border=\"1\" class=\"dataframe\">\n",
       "  <thead>\n",
       "    <tr style=\"text-align: right;\">\n",
       "      <th></th>\n",
       "      <th>Unnamed: 0</th>\n",
       "      <th>消费总额</th>\n",
       "      <th>小费</th>\n",
       "      <th>人数</th>\n",
       "    </tr>\n",
       "  </thead>\n",
       "  <tbody>\n",
       "    <tr>\n",
       "      <th>count</th>\n",
       "      <td>244.000000</td>\n",
       "      <td>237.000000</td>\n",
       "      <td>239.000000</td>\n",
       "      <td>241.000000</td>\n",
       "    </tr>\n",
       "    <tr>\n",
       "      <th>mean</th>\n",
       "      <td>121.500000</td>\n",
       "      <td>19.611941</td>\n",
       "      <td>2.994728</td>\n",
       "      <td>2.576763</td>\n",
       "    </tr>\n",
       "    <tr>\n",
       "      <th>std</th>\n",
       "      <td>70.580923</td>\n",
       "      <td>8.737346</td>\n",
       "      <td>1.392654</td>\n",
       "      <td>0.954878</td>\n",
       "    </tr>\n",
       "    <tr>\n",
       "      <th>min</th>\n",
       "      <td>0.000000</td>\n",
       "      <td>3.070000</td>\n",
       "      <td>1.000000</td>\n",
       "      <td>1.000000</td>\n",
       "    </tr>\n",
       "    <tr>\n",
       "      <th>25%</th>\n",
       "      <td>60.750000</td>\n",
       "      <td>13.280000</td>\n",
       "      <td>2.000000</td>\n",
       "      <td>2.000000</td>\n",
       "    </tr>\n",
       "    <tr>\n",
       "      <th>50%</th>\n",
       "      <td>121.500000</td>\n",
       "      <td>17.590000</td>\n",
       "      <td>2.830000</td>\n",
       "      <td>2.000000</td>\n",
       "    </tr>\n",
       "    <tr>\n",
       "      <th>75%</th>\n",
       "      <td>182.250000</td>\n",
       "      <td>24.010000</td>\n",
       "      <td>3.505000</td>\n",
       "      <td>3.000000</td>\n",
       "    </tr>\n",
       "    <tr>\n",
       "      <th>max</th>\n",
       "      <td>243.000000</td>\n",
       "      <td>50.810000</td>\n",
       "      <td>10.000000</td>\n",
       "      <td>6.000000</td>\n",
       "    </tr>\n",
       "  </tbody>\n",
       "</table>\n",
       "</div>"
      ],
      "text/plain": [
       "       Unnamed: 0        消费总额          小费          人数\n",
       "count  244.000000  237.000000  239.000000  241.000000\n",
       "mean   121.500000   19.611941    2.994728    2.576763\n",
       "std     70.580923    8.737346    1.392654    0.954878\n",
       "min      0.000000    3.070000    1.000000    1.000000\n",
       "25%     60.750000   13.280000    2.000000    2.000000\n",
       "50%    121.500000   17.590000    2.830000    2.000000\n",
       "75%    182.250000   24.010000    3.505000    3.000000\n",
       "max    243.000000   50.810000   10.000000    6.000000"
      ]
     },
     "execution_count": 22,
     "metadata": {},
     "output_type": "execute_result"
    }
   ],
   "source": [
    "fdata=pd.read_excel(\"D:\\\\软件安装\\\\tips_mod.xls\")\n",
    "fdata.head()\n",
    "print(fdata.shape)\n",
    "fdata.describe()"
   ]
  },
  {
   "cell_type": "markdown",
   "id": "32abeb1f",
   "metadata": {},
   "source": [
    "②　显示聚餐时间段time的不重复值；"
   ]
  },
  {
   "cell_type": "code",
   "execution_count": 23,
   "id": "e7a7b844",
   "metadata": {},
   "outputs": [
    {
     "data": {
      "text/plain": [
       "array(['Dinner', 'Lunch', 'Diner', 'Lanch', 'Dier'], dtype=object)"
      ]
     },
     "execution_count": 23,
     "metadata": {},
     "output_type": "execute_result"
    }
   ],
   "source": [
    "fdata['聚餐时间段'].unique()"
   ]
  },
  {
   "cell_type": "markdown",
   "id": "45132b2f",
   "metadata": {},
   "source": [
    "③　修改拼写错误的字段值；"
   ]
  },
  {
   "cell_type": "code",
   "execution_count": 24,
   "id": "b27fc6df",
   "metadata": {},
   "outputs": [
    {
     "data": {
      "text/plain": [
       "array(['Dinner', 'Lunch', 'Lanch'], dtype=object)"
      ]
     },
     "execution_count": 24,
     "metadata": {},
     "output_type": "execute_result"
    }
   ],
   "source": [
    "fdata.loc[fdata['聚餐时间段']=='Diner','聚餐时间段']='Dinner'\n",
    "fdata.loc[fdata['聚餐时间段']=='Dier','聚餐时间段']='Dinner'\n",
    "fdata['聚餐时间段'].unique()"
   ]
  },
  {
   "cell_type": "markdown",
   "id": "5b2dc9b6",
   "metadata": {},
   "source": [
    "④　检测数据中的缺失值；"
   ]
  },
  {
   "cell_type": "code",
   "execution_count": 25,
   "id": "2076fa13",
   "metadata": {},
   "outputs": [
    {
     "data": {
      "text/plain": [
       "Unnamed: 0    0\n",
       "消费总额          7\n",
       "小费            5\n",
       "性别            4\n",
       "是否抽烟          1\n",
       "星期            3\n",
       "聚餐时间段         0\n",
       "人数            3\n",
       "dtype: int64"
      ]
     },
     "execution_count": 25,
     "metadata": {},
     "output_type": "execute_result"
    }
   ],
   "source": [
    "fdata.isnull().sum()"
   ]
  },
  {
   "cell_type": "markdown",
   "id": "c1203566",
   "metadata": {},
   "source": [
    "⑤　删除一行内有两个缺失值的数据；"
   ]
  },
  {
   "cell_type": "code",
   "execution_count": 26,
   "id": "bbc2e1e7",
   "metadata": {},
   "outputs": [
    {
     "data": {
      "text/plain": [
       "Unnamed: 0    0\n",
       "消费总额          6\n",
       "小费            4\n",
       "性别            4\n",
       "是否抽烟          1\n",
       "星期            2\n",
       "聚餐时间段         0\n",
       "人数            3\n",
       "dtype: int64"
      ]
     },
     "execution_count": 26,
     "metadata": {},
     "output_type": "execute_result"
    }
   ],
   "source": [
    "fdata.dropna(thresh=6,inplace=True)\n",
    "fdata.isnull().sum()"
   ]
  },
  {
   "cell_type": "markdown",
   "id": "1075433c",
   "metadata": {},
   "source": [
    "⑥　删除sex或time为空的行；"
   ]
  },
  {
   "cell_type": "code",
   "execution_count": 27,
   "id": "12a501a8",
   "metadata": {},
   "outputs": [
    {
     "data": {
      "text/plain": [
       "Unnamed: 0    0\n",
       "消费总额          5\n",
       "小费            4\n",
       "性别            0\n",
       "是否抽烟          1\n",
       "星期            1\n",
       "聚餐时间段         0\n",
       "人数            3\n",
       "dtype: int64"
      ]
     },
     "execution_count": 27,
     "metadata": {},
     "output_type": "execute_result"
    }
   ],
   "source": [
    "fdata.dropna(subset=['性别','聚餐时间段'],inplace=True)\n",
    "fdata.isnull().sum()"
   ]
  },
  {
   "cell_type": "markdown",
   "id": "9db6926b",
   "metadata": {},
   "source": [
    "⑦　对剩余有空缺的数据用平均值替换；"
   ]
  },
  {
   "cell_type": "code",
   "execution_count": 28,
   "id": "4683c2f4",
   "metadata": {},
   "outputs": [
    {
     "data": {
      "text/plain": [
       "Unnamed: 0    0\n",
       "消费总额          0\n",
       "小费            0\n",
       "性别            0\n",
       "是否抽烟          1\n",
       "星期            1\n",
       "聚餐时间段         0\n",
       "人数            0\n",
       "dtype: int64"
      ]
     },
     "execution_count": 28,
     "metadata": {},
     "output_type": "execute_result"
    }
   ],
   "source": [
    "fdata.fillna(fdata.mean(),inplace=True)\n",
    "fdata.isnull().sum()"
   ]
  },
  {
   "cell_type": "markdown",
   "id": "86a62669",
   "metadata": {},
   "source": [
    "（1）用plot方法画出x在(0，10，0.01)间cos的图像"
   ]
  },
  {
   "cell_type": "code",
   "execution_count": 13,
   "id": "8b16be9b",
   "metadata": {},
   "outputs": [
    {
     "data": {
      "text/plain": [
       "[<matplotlib.lines.Line2D at 0x21e072b31c0>]"
      ]
     },
     "execution_count": 13,
     "metadata": {},
     "output_type": "execute_result"
    },
    {
     "data": {
      "image/png": "[encoded data removed]",
      "text/plain": [
       "<Figure size 432x288 with 1 Axes>"
      ]
     },
     "metadata": {
      "needs_background": "light"
     },
     "output_type": "display_data"
    }
   ],
   "source": [
    "import matplotlib.pyplot as plt\n",
    "import numpy as np\n",
    "x=np.arange(0,10,0.01)\n",
    "y=np.cos(x)\n",
    "plt.plot(x,y)"
   ]
  },
  {
   "cell_type": "markdown",
   "id": "e7fb1103",
   "metadata": {},
   "source": [
    "（2）用scatter方法画出x在(0，10，0.5)间sin的点图像"
   ]
  },
  {
   "cell_type": "code",
   "execution_count": 7,
   "id": "76db637e",
   "metadata": {},
   "outputs": [
    {
     "data": {
      "text/plain": [
       "<matplotlib.collections.PathCollection at 0x21e07346ac0>"
      ]
     },
     "execution_count": 7,
     "metadata": {},
     "output_type": "execute_result"
    },
    {
     "data": {
      "image/png": "[encoded data removed]",
      "text/plain": [
       "<Figure size 432x288 with 1 Axes>"
      ]
     },
     "metadata": {
      "needs_background": "light"
     },
     "output_type": "display_data"
    }
   ],
   "source": [
    "import matplotlib.pyplot as plt\n",
    "import numpy as np\n",
    "x=np.arange(0,10,0.5)\n",
    "plt.scatter(x, np.sin(x))"
   ]
  },
  {
   "cell_type": "markdown",
   "id": "5e3e4abc",
   "metadata": {},
   "source": [
    "（3）绘制一个高分别为3，1，4，5，8，9，7，2，X轴上值为A，B，C，D，E，F，G，H的柱\n",
    "状图"
   ]
  },
  {
   "cell_type": "code",
   "execution_count": 15,
   "id": "1134abc3",
   "metadata": {},
   "outputs": [
    {
     "data": {
      "image/png": "[encoded data removed]",
      "text/plain": [
       "<Figure size 432x288 with 1 Axes>"
      ]
     },
     "metadata": {
      "needs_background": "light"
     },
     "output_type": "display_data"
    }
   ],
   "source": [
    "import matplotlib.pyplot as plt\n",
    "import numpy as np\n",
    "x = [\"A\",\"B\",\"C\",\"D\",\"E\",\"F\",\"G\",\"H\"]\n",
    "y = [3,1,4,5,8,9,7,2]\n",
    "plt.bar(x,y)\n",
    "plt.show()"
   ]
  },
  {
   "cell_type": "markdown",
   "id": "1ed809e4",
   "metadata": {},
   "source": [
    "（4）（x=np.arange（0,10,0.01））\n",
    "①在同一画布的不同坐标系下绘制以上四个函数；"
   ]
  },
  {
   "cell_type": "code",
   "execution_count": 8,
   "id": "96b9b5df",
   "metadata": {},
   "outputs": [
    {
     "data": {
      "image/png": "[encoded data removed]",
      "text/plain": [
       "<Figure size 432x288 with 4 Axes>"
      ]
     },
     "metadata": {
      "needs_background": "light"
     },
     "output_type": "display_data"
    }
   ],
   "source": [
    "import matplotlib.pyplot as plt\n",
    "import numpy as np\n",
    "x=np.arange(0,10,0.01)\n",
    "y1=np.cos(x)*2\n",
    "y2=2*(x**2)\n",
    "y3=6*x-2\n",
    "y4=np.sin(x)\n",
    "fig, ax_arr = plt.subplots(2, 2, sharex='col')\n",
    "ax1 = ax_arr[0,0]\n",
    "ax1.plot(x,y1)\n",
    "ax2 = ax_arr[0,1]\n",
    "ax2.plot(x,y2)\n",
    "ax3 = ax_arr[1,0]\n",
    "ax3.scatter(x,y3)\n",
    "ax4 = ax_arr[1,1]\n",
    "ax4.scatter(x,y4)\n",
    "plt.show()"
   ]
  },
  {
   "cell_type": "markdown",
   "id": "4469e1d2",
   "metadata": {},
   "source": [
    "②在同一画布的同一坐标系下（同一个子图）绘制以上四个函数，用不同颜色、类型的线条进行区分，须包含图例"
   ]
  },
  {
   "cell_type": "code",
   "execution_count": 58,
   "id": "a5846024",
   "metadata": {},
   "outputs": [
    {
     "data": {
      "image/png": "[encoded data removed]",
      "text/plain": [
       "<Figure size 432x288 with 1 Axes>"
      ]
     },
     "metadata": {
      "needs_background": "light"
     },
     "output_type": "display_data"
    },
    {
     "data": {
      "image/png": "[encoded data removed]",
      "text/plain": [
       "<Figure size 432x288 with 1 Axes>"
      ]
     },
     "metadata": {
      "needs_background": "light"
     },
     "output_type": "display_data"
    }
   ],
   "source": [
    "import matplotlib.pyplot as plt\n",
    "import numpy as np\n",
    "x=np.arange(0,10,0.01)\n",
    "y1=np.cos(x)*2\n",
    "y2=2*(x**2)\n",
    "y3=6*x-2\n",
    "y4=np.sin(x)\n",
    "plt.plot(x,y1,x,y2,x,y3,x,y4)\n",
    "plt.plot(x,y1,c=\"yellow\")\n",
    "plt.plot(x,y2,c=\"red\")\n",
    "plt.plot(x,y3,c=\"green\")\n",
    "plt.plot(x,y4,c=\"blue\")\n",
    "plt.show()\n",
    "y1=plt.plot(x,y1,\"-\",label=\"y1\")\n",
    "y2=plt.plot(x,y2,\"-.\",label=\"y2\")\n",
    "y3=plt.plot(x,y3,\".-\",label=\"y3\")\n",
    "y4=plt.plot(x,y4,\"--\",label=\"y4\")\n",
    "plt.legend()\n",
    "plt.show()"
   ]
  },
  {
   "cell_type": "markdown",
   "id": "c378882d",
   "metadata": {},
   "source": [
    "③使用fill_between()函数填充y1、y4两条曲线之间的颜色"
   ]
  },
  {
   "cell_type": "code",
   "execution_count": 62,
   "id": "602b2215",
   "metadata": {},
   "outputs": [
    {
     "data": {
      "image/png": "[encoded data removed]",
      "text/plain": [
       "<Figure size 432x288 with 1 Axes>"
      ]
     },
     "metadata": {
      "needs_background": "light"
     },
     "output_type": "display_data"
    }
   ],
   "source": [
    "import matplotlib.pyplot as plt\n",
    "import numpy as np\n",
    "x=np.arange(0,10,0.01)\n",
    "y1=np.cos(x)*2\n",
    "y4=np.sin(x)\n",
    "plt.fill_between(x,y1,y4,facecolor=\"blue\")\n",
    "plt.show()"
   ]
  },
  {
   "cell_type": "code",
   "execution_count": null,
   "id": "4365241d",
   "metadata": {},
   "outputs": [],
   "source": []
  }
 ],
 "metadata": {
  "kernelspec": {
   "display_name": "Python 3 (ipykernel)",
   "language": "python",
   "name": "python3"
  },
  "language_info": {
   "codemirror_mode": {
    "name": "ipython",
    "version": 3
   },
   "file_extension": ".py",
   "mimetype": "text/x-python",
   "name": "python",
   "nbconvert_exporter": "python",
   "pygments_lexer": "ipython3",
   "version": "3.9.12"
  }
 },
 "nbformat": 4,
 "nbformat_minor": 5
}
